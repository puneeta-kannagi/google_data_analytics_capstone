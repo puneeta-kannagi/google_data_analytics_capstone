{
 "cells": [
  {
   "cell_type": "markdown",
   "metadata": {},
   "source": [
    "## Introduction\n",
    "I have recently enrolled in, and completed the Google Data Analytics Professional Certificate offered through Coursera.To finish the certificate, I will be completing a case study based around Cyclistic, a fictional bike-share company based in Chicago."
   ]
  },
  {
   "cell_type": "markdown",
   "metadata": {},
   "source": [
    "### About Cyclistic\n",
    "Cyclistic is a Chicago bike-share company launched in 2016. They offer 5,824 bicycles that are geotracked and locked into a network of 692 stations across Chicago.The bikes can be unlocked from one station and\n",
    "returned to any other station in the system anytime.\n",
    "\n",
    "They offer three Cyclistic pricing plans: single-ride passes, full-day passes, and annual memberships.  Customers who purchase annual memberships are considered ‘Cyclistic Members’, while those purchasing single and day passes are considered ‘Casual’.  \n",
    "\n",
    "Their large offering of bikes also offers some variety: standard two-wheeled bikes, reclining bikes, hand tricycles, and cargo bikes.  \n"
   ]
  },
  {
   "cell_type": "markdown",
   "metadata": {},
   "source": [
    "### The Scenario\n",
    "I am a junior data analyst working in the marketing analyst team at Cyclistic.  \n",
    "\n",
    "Lily Moreno, the director of marketing believes the company’s success depends on maximizing the number of annual memberships. Moreno has set a clear goal: Design marketing strategies aimed at converting casual riders into annual members. \n",
    "\n",
    "In order to do that, however, the marketing analyst team needs to better understand how annual members and casual riders differ, why casual riders would buy a membership, and how digital media could affect their marketing tactics. Moreno and her team are interested in analyzing the Cyclistic historical bike trip data to identify trends."
   ]
  },
  {
   "cell_type": "markdown",
   "metadata": {},
   "source": [
    "### Business Task\n",
    "Analyze historical data to determine how casual riders and Cyclistic Members use the service differently and offer recommendations on how to convert casual riders into Cyclistic Members. \n"
   ]
  },
  {
   "cell_type": "markdown",
   "metadata": {},
   "source": []
  },
  {
   "cell_type": "markdown",
   "metadata": {},
   "source": [
    "## Prepare\n",
    "\n",
    "To answer this question I will be analyzing historical Cyclistic bike trip data for last 20 months (8 months in 2022 and 12 months in 2021).\n",
    "\n",
    " The data is reliable, free of any bias, and has been collected by Cyclistic and stored on the company’s database separated by month in CSV format. \n"
   ]
  },
  {
   "cell_type": "markdown",
   "metadata": {},
   "source": [
    "### Data source Used\n",
    "\n",
    "The data used for analysis in this case study will \n",
    "be 20yyxx-divvy-tripdata found here, where 'yy'is 21 for 2021 or 22 for 2022 and ‘xx’ \n",
    "is numbered 1-12 for the corresponding month, \n",
    "with 20 CSV files in total.  The data for this fictional \n",
    "company has been made available for use by Motivate International Inc.  \n",
    "\n",
    "### Key points\n",
    "* Each month contains every single trip that took place during that period.\n",
    "* All personal customer information has been removed for privacy issues.\n",
    "* Classic bikes were previously labeled ‘docked bikes’, they refer to the same thing.\n",
    "* Classic bikes must start and end at a docking station, whereas electric bikes have a bike lock attached to them; thus, electric bikes can also start and end their trip locked up anywhere in the general vicinity of a docking station.\n",
    "* The data should have no trips shorter than 1 minute or longer than 1 day. Any data that does not fit these constraints should be removed as it is a maintenance trip carried out by the Cyclistic team, or the bike has been stolen. "
   ]
  },
  {
   "cell_type": "markdown",
   "metadata": {},
   "source": []
  },
  {
   "cell_type": "markdown",
   "metadata": {},
   "source": [
    "## Process"
   ]
  },
  {
   "cell_type": "code",
   "execution_count": 2,
   "metadata": {},
   "outputs": [],
   "source": [
    "import pandas as pd\n",
    "import datetime"
   ]
  },
  {
   "cell_type": "code",
   "execution_count": 72,
   "metadata": {},
   "outputs": [],
   "source": [
    "#df1=pd.read_csv('/Users/adhiman/Documents/Excel Complete/Capstone/CyclisticDataSets/202101-divvy-tripdata.csv')\n",
    "#df1.info()"
   ]
  },
  {
   "cell_type": "markdown",
   "metadata": {},
   "source": [
    "Combining all the datasets into one big dataframe"
   ]
  },
  {
   "cell_type": "code",
   "execution_count": 3,
   "metadata": {},
   "outputs": [],
   "source": [
    "import glob\n",
    "\n",
    "# Get CSV files list from a folder\n",
    "path = '/Users/adhiman/Documents/Excel Complete/Capstone/CyclisticDataSets'\n",
    "csv_files = glob.glob(path + \"/*.csv\")\n",
    "\n",
    "# Read each CSV file into DataFrame\n",
    "# This creates a list of dataframes\n",
    "df_list = (pd.read_csv(file) for file in csv_files)\n",
    "\n",
    "# Concatenate all DataFrames\n",
    "big_df   = pd.concat(df_list, ignore_index=True)"
   ]
  },
  {
   "cell_type": "code",
   "execution_count": 4,
   "metadata": {},
   "outputs": [
    {
     "name": "stdout",
     "output_type": "stream",
     "text": [
      "<class 'pandas.core.frame.DataFrame'>\n",
      "RangeIndex: 9483215 entries, 0 to 9483214\n",
      "Data columns (total 13 columns):\n",
      " #   Column              Dtype  \n",
      "---  ------              -----  \n",
      " 0   ride_id             object \n",
      " 1   rideable_type       object \n",
      " 2   started_at          object \n",
      " 3   ended_at            object \n",
      " 4   start_station_name  object \n",
      " 5   start_station_id    object \n",
      " 6   end_station_name    object \n",
      " 7   end_station_id      object \n",
      " 8   start_lat           float64\n",
      " 9   start_lng           float64\n",
      " 10  end_lat             float64\n",
      " 11  end_lng             float64\n",
      " 12  member_casual       object \n",
      "dtypes: float64(4), object(9)\n",
      "memory usage: 940.6+ MB\n"
     ]
    }
   ],
   "source": [
    "big_df.info()"
   ]
  },
  {
   "cell_type": "markdown",
   "metadata": {},
   "source": [
    "\n",
    "#### Count Validation"
   ]
  },
  {
   "cell_type": "markdown",
   "metadata": {},
   "source": [
    "Ran in terminal <br>\n",
    "> cd /Users/adhiman/Documents/Excel Complete/Capstone/CyclisticDataSets'<br>\n",
    "> wc -l *.csv (below is the output for same)<br>\n",
    "96835 202101-divvy-tripdata.csv \n",
    "49623 202102-divvy-tripdata.csv\n",
    "228497 202103-divvy-tripdata.csv\n",
    "337231 202104-divvy-tripdata.csv\n",
    "531634 202105-divvy-tripdata.csv\n",
    "729596 202106-divvy-tripdata.csv\n",
    "822411 202107-divvy-tripdata.csv\n",
    "804353 202108-divvy-tripdata.csv\n",
    "756148 202109-divvy-tripdata.csv\n",
    "631227 202110-divvy-tripdata.csv\n",
    "359979 202111-divvy-tripdata.csv\n",
    "247541 202112-divvy-tripdata.csv\n",
    "103771 202201-divvy-tripdata.csv\n",
    "115610 202202-divvy-tripdata.csv\n",
    "284043 202203-divvy-tripdata.csv\n",
    "371250 202204-divvy-tripdata.csv\n",
    "634859 202205-divvy-tripdata.csv\n",
    "769205 202206-divvy-tripdata.csv\n",
    "823489 202207-divvy-tripdata.csv\n",
    "785933 202208-divvy-tripdata.csv<br>\n",
    "9483235 total\n",
    "</p>"
   ]
  },
  {
   "cell_type": "code",
   "execution_count": null,
   "metadata": {},
   "outputs": [
    {
     "data": {
      "text/plain": [
       "(9483215, 13)"
      ]
     },
     "execution_count": 7,
     "metadata": {},
     "output_type": "execute_result"
    }
   ],
   "source": [
    "# row count of combined dataframe\n",
    "big_df.shape #(9483215, 13)"
   ]
  },
  {
   "cell_type": "markdown",
   "metadata": {},
   "source": [
    "#### Correcting datatypes and column names for all the columns:"
   ]
  },
  {
   "cell_type": "code",
   "execution_count": 5,
   "metadata": {},
   "outputs": [],
   "source": [
    "big_df['started_at']=pd.to_datetime(big_df['started_at'])\n",
    "big_df['ended_at']=pd.to_datetime(big_df['ended_at'])"
   ]
  },
  {
   "cell_type": "code",
   "execution_count": 6,
   "metadata": {},
   "outputs": [],
   "source": [
    "big_df.rename(columns={'member_casual':'member_type','rideable_type':'bike_type'},inplace=True)"
   ]
  },
  {
   "cell_type": "code",
   "execution_count": 7,
   "metadata": {},
   "outputs": [
    {
     "name": "stdout",
     "output_type": "stream",
     "text": [
      "<class 'pandas.core.frame.DataFrame'>\n",
      "RangeIndex: 9483215 entries, 0 to 9483214\n",
      "Data columns (total 13 columns):\n",
      " #   Column              Dtype         \n",
      "---  ------              -----         \n",
      " 0   ride_id             object        \n",
      " 1   bike_type           object        \n",
      " 2   started_at          datetime64[ns]\n",
      " 3   ended_at            datetime64[ns]\n",
      " 4   start_station_name  object        \n",
      " 5   start_station_id    object        \n",
      " 6   end_station_name    object        \n",
      " 7   end_station_id      object        \n",
      " 8   start_lat           float64       \n",
      " 9   start_lng           float64       \n",
      " 10  end_lat             float64       \n",
      " 11  end_lng             float64       \n",
      " 12  member_type         object        \n",
      "dtypes: datetime64[ns](2), float64(4), object(7)\n",
      "memory usage: 940.6+ MB\n"
     ]
    }
   ],
   "source": [
    "big_df.info()"
   ]
  },
  {
   "cell_type": "markdown",
   "metadata": {},
   "source": [
    "#### Handling missing values"
   ]
  },
  {
   "cell_type": "markdown",
   "metadata": {},
   "source": [
    "Identifying columns with nullvalues:\n",
    "* start_station_id / start_station_name\n",
    "* end_station_is / end_station_name\n",
    "* end_lat / end_lng"
   ]
  },
  {
   "cell_type": "code",
   "execution_count": null,
   "metadata": {},
   "outputs": [
    {
     "data": {
      "text/plain": [
       "ride_id                     0\n",
       "bike_type                   0\n",
       "started_at                  0\n",
       "ended_at                    0\n",
       "start_station_name    1247498\n",
       "start_station_id      1247495\n",
       "end_station_name      1338693\n",
       "end_station_id        1338693\n",
       "start_lat                   0\n",
       "start_lng                   0\n",
       "end_lat                  9084\n",
       "end_lng                  9084\n",
       "member_type                 0\n",
       "dtype: int64"
      ]
     },
     "execution_count": 36,
     "metadata": {},
     "output_type": "execute_result"
    }
   ],
   "source": [
    "big_df.isna().sum()"
   ]
  },
  {
   "cell_type": "code",
   "execution_count": 8,
   "metadata": {},
   "outputs": [
    {
     "data": {
      "text/plain": [
       "1866164"
      ]
     },
     "execution_count": 8,
     "metadata": {},
     "output_type": "execute_result"
    }
   ],
   "source": [
    "# total records having null values\n",
    "big_df.isna().any(axis=1).sum()"
   ]
  },
  {
   "cell_type": "markdown",
   "metadata": {},
   "source": [
    "Records where either start or end station are null: 720027 records for electric bikes \n",
    "Maximum electric bike data contains null.\n",
    "bike_type\n",
    "classic_bike       11945\n",
    "docked_bike         2209\n",
    "electric_bike    1852010"
   ]
  },
  {
   "cell_type": "code",
   "execution_count": null,
   "metadata": {},
   "outputs": [
    {
     "data": {
      "text/plain": [
       "bike_type\n",
       "classic_bike       11945\n",
       "docked_bike         2209\n",
       "electric_bike    1852010\n",
       "Name: ride_id, dtype: int64"
      ]
     },
     "execution_count": 34,
     "metadata": {},
     "output_type": "execute_result"
    }
   ],
   "source": [
    "big_df[(big_df['start_station_name'].isna()==True) | (big_df['end_station_name'].isna()==True)].groupby('bike_type')['ride_id'].count()"
   ]
  },
  {
   "cell_type": "code",
   "execution_count": null,
   "metadata": {},
   "outputs": [
    {
     "data": {
      "text/plain": [
       "bike_type\n",
       "electric_bike    527471\n",
       "Name: ride_id, dtype: int64"
      ]
     },
     "execution_count": 21,
     "metadata": {},
     "output_type": "execute_result"
    }
   ],
   "source": [
    "## Electric bikes are the only type for all 720027 records where startstation name and end station name both are null\n",
    "big_df[(big_df['start_station_name'].isna()==True) & (big_df['end_station_name'].isna()==False)].groupby('bike_type')['ride_id'].count()\n",
    "## for now decided to dropping these columns"
   ]
  },
  {
   "cell_type": "markdown",
   "metadata": {},
   "source": [
    "Dropping all the records containing nulls"
   ]
  },
  {
   "cell_type": "code",
   "execution_count": 9,
   "metadata": {},
   "outputs": [],
   "source": [
    "big_df.dropna(subset=['start_station_name'],inplace=True)\n",
    "big_df.dropna(subset=['end_station_name'],inplace=True)"
   ]
  },
  {
   "cell_type": "code",
   "execution_count": 10,
   "metadata": {},
   "outputs": [
    {
     "data": {
      "text/plain": [
       "(7617051, 13)"
      ]
     },
     "execution_count": 10,
     "metadata": {},
     "output_type": "execute_result"
    }
   ],
   "source": [
    "# Expected number of records : 9483215-1866164 = 7617051\n",
    "big_df.shape"
   ]
  },
  {
   "cell_type": "code",
   "execution_count": null,
   "metadata": {},
   "outputs": [],
   "source": [
    "big_df.reset_index(drop=True,inplace=True)"
   ]
  },
  {
   "cell_type": "code",
   "execution_count": null,
   "metadata": {},
   "outputs": [
    {
     "name": "stdout",
     "output_type": "stream",
     "text": [
      "<class 'pandas.core.frame.DataFrame'>\n",
      "RangeIndex: 7617051 entries, 0 to 7617050\n",
      "Data columns (total 13 columns):\n",
      " #   Column              Dtype         \n",
      "---  ------              -----         \n",
      " 0   ride_id             object        \n",
      " 1   bike_type           object        \n",
      " 2   started_at          datetime64[ns]\n",
      " 3   ended_at            datetime64[ns]\n",
      " 4   start_station_name  object        \n",
      " 5   start_station_id    object        \n",
      " 6   end_station_name    object        \n",
      " 7   end_station_id      object        \n",
      " 8   start_lat           float64       \n",
      " 9   start_lng           float64       \n",
      " 10  end_lat             float64       \n",
      " 11  end_lng             float64       \n",
      " 12  member_type         object        \n",
      "dtypes: datetime64[ns](2), float64(4), object(7)\n",
      "memory usage: 755.5+ MB\n"
     ]
    }
   ],
   "source": [
    "big_df.info()"
   ]
  },
  {
   "cell_type": "markdown",
   "metadata": {},
   "source": [
    "#### Duplicate Values"
   ]
  },
  {
   "cell_type": "code",
   "execution_count": null,
   "metadata": {},
   "outputs": [
    {
     "data": {
      "text/plain": [
       "0"
      ]
     },
     "execution_count": 45,
     "metadata": {},
     "output_type": "execute_result"
    }
   ],
   "source": [
    "big_df.duplicated().sum() # no dulpicates (0)"
   ]
  },
  {
   "cell_type": "markdown",
   "metadata": {},
   "source": [
    "#### Data Validations\n",
    "* ride_id \n",
    "  * is primary_key so must be unique\n",
    "  * length of ride_id\n",
    "  * datatype\n",
    "* bike_type\n",
    "  * all possible values\t\n",
    "* started_at\n",
    "  * datatype must be datetime \n",
    "  * no future dates data\n",
    "* ended_at \n",
    "  * datatype must be datetime \n",
    "  * no ende_at < started_at\n",
    "* start_station_name/ end_station_name\n",
    "  * remove white spaces\n",
    "*  "
   ]
  },
  {
   "cell_type": "markdown",
   "metadata": {},
   "source": [
    "##### ride_id"
   ]
  },
  {
   "cell_type": "code",
   "execution_count": null,
   "metadata": {},
   "outputs": [
    {
     "data": {
      "text/plain": [
       "count              9483215\n",
       "unique             9483215\n",
       "top       550CF7EFEAE0C618\n",
       "freq                     1\n",
       "Name: ride_id, dtype: object"
      ]
     },
     "execution_count": 13,
     "metadata": {},
     "output_type": "execute_result"
    }
   ],
   "source": [
    "big_df['ride_id'].describe()"
   ]
  },
  {
   "cell_type": "code",
   "execution_count": null,
   "metadata": {},
   "outputs": [
    {
     "data": {
      "text/plain": [
       "min    16\n",
       "max    16\n",
       "Name: ride_id, dtype: int64"
      ]
     },
     "execution_count": 50,
     "metadata": {},
     "output_type": "execute_result"
    }
   ],
   "source": [
    "big_df['ride_id'].apply(len).agg(['min','max'])"
   ]
  },
  {
   "cell_type": "markdown",
   "metadata": {},
   "source": [
    "##### bike_type"
   ]
  },
  {
   "cell_type": "code",
   "execution_count": null,
   "metadata": {},
   "outputs": [
    {
     "data": {
      "text/plain": [
       "array(['electric_bike', 'classic_bike', 'docked_bike'], dtype=object)"
      ]
     },
     "execution_count": 16,
     "metadata": {},
     "output_type": "execute_result"
    }
   ],
   "source": [
    "big_df['bike_type'].unique()"
   ]
  },
  {
   "cell_type": "markdown",
   "metadata": {},
   "source": [
    "##### started_at and ended_at"
   ]
  },
  {
   "cell_type": "code",
   "execution_count": null,
   "metadata": {},
   "outputs": [
    {
     "data": {
      "text/plain": [
       "146"
      ]
     },
     "execution_count": 52,
     "metadata": {},
     "output_type": "execute_result"
    }
   ],
   "source": [
    "# checking records start date is greater than end date\n",
    "big_df[(big_df['started_at']>big_df['ended_at'])]['ride_id'].count()"
   ]
  },
  {
   "cell_type": "code",
   "execution_count": 11,
   "metadata": {},
   "outputs": [],
   "source": [
    "# removed the records where start date is greater than end date\n",
    "big_df.drop(big_df[(big_df['started_at']>big_df['ended_at'])].index,inplace=True)"
   ]
  },
  {
   "cell_type": "code",
   "execution_count": 12,
   "metadata": {},
   "outputs": [
    {
     "data": {
      "text/plain": [
       "(7616905, 13)"
      ]
     },
     "execution_count": 12,
     "metadata": {},
     "output_type": "execute_result"
    }
   ],
   "source": [
    "# expected records 7617051-146 = 7616905\n",
    "big_df.shape"
   ]
  },
  {
   "cell_type": "code",
   "execution_count": null,
   "metadata": {},
   "outputs": [
    {
     "data": {
      "text/plain": [
       "Timestamp('2022-08-31 23:58:50')"
      ]
     },
     "execution_count": 58,
     "metadata": {},
     "output_type": "execute_result"
    }
   ],
   "source": [
    "# maximum value of start date\n",
    "big_df['started_at'].max()"
   ]
  },
  {
   "cell_type": "code",
   "execution_count": null,
   "metadata": {},
   "outputs": [
    {
     "data": {
      "text/plain": [
       "Timestamp('2022-09-01 19:10:49')"
      ]
     },
     "execution_count": 59,
     "metadata": {},
     "output_type": "execute_result"
    }
   ],
   "source": [
    "# maximum value of start date\n",
    "big_df['ended_at'].max()"
   ]
  },
  {
   "cell_type": "markdown",
   "metadata": {},
   "source": [
    "##### start_station_name/end_station_name : "
   ]
  },
  {
   "cell_type": "code",
   "execution_count": 13,
   "metadata": {},
   "outputs": [],
   "source": [
    "big_df['start_station_name']=big_df['start_station_name'].str.strip()\n",
    "big_df['end_station_name']=big_df['start_station_name'].str.strip()"
   ]
  },
  {
   "cell_type": "markdown",
   "metadata": {},
   "source": [
    "##### member_type"
   ]
  },
  {
   "cell_type": "code",
   "execution_count": null,
   "metadata": {},
   "outputs": [
    {
     "data": {
      "text/plain": [
       "array(['casual', 'member'], dtype=object)"
      ]
     },
     "execution_count": 68,
     "metadata": {},
     "output_type": "execute_result"
    }
   ],
   "source": [
    "big_df['member_type'].unique()"
   ]
  },
  {
   "cell_type": "markdown",
   "metadata": {},
   "source": [
    "#### copy of cleaned datset"
   ]
  },
  {
   "cell_type": "code",
   "execution_count": 14,
   "metadata": {},
   "outputs": [],
   "source": [
    "cyc_cleaned_dataset=big_df.copy()"
   ]
  },
  {
   "cell_type": "markdown",
   "metadata": {},
   "source": [
    "## Analyze"
   ]
  },
  {
   "cell_type": "markdown",
   "metadata": {},
   "source": [
    "#### Adding new columns\n",
    "* trip_duartion_min : ended_at - started_at\n",
    "* start_date\n",
    "* day_of_week - 0:Mon to 6:Sun\n",
    "* time_of_day - 0-6: Mor, 6-12: Aft, 12-18: Even, 18-24: Night\n",
    "* hour_of_day"
   ]
  },
  {
   "cell_type": "markdown",
   "metadata": {},
   "source": [
    "#### trip_duration_min"
   ]
  },
  {
   "cell_type": "code",
   "execution_count": 16,
   "metadata": {},
   "outputs": [],
   "source": [
    "cyc_cleaned_dataset['trip_duration_min']=round((cyc_cleaned_dataset['ended_at']-cyc_cleaned_dataset['started_at']).dt.seconds / 60,2)"
   ]
  },
  {
   "cell_type": "code",
   "execution_count": 17,
   "metadata": {},
   "outputs": [
    {
     "data": {
      "text/plain": [
       "min       0.00\n",
       "max    1439.95\n",
       "Name: trip_duration_min, dtype: float64"
      ]
     },
     "execution_count": 17,
     "metadata": {},
     "output_type": "execute_result"
    }
   ],
   "source": [
    "cyc_cleaned_dataset['trip_duration_min'].agg(['min','max'])"
   ]
  },
  {
   "cell_type": "code",
   "execution_count": 19,
   "metadata": {},
   "outputs": [
    {
     "data": {
      "text/plain": [
       "110667"
      ]
     },
     "execution_count": 19,
     "metadata": {},
     "output_type": "execute_result"
    }
   ],
   "source": [
    "# removing rows with trip duration less than minute\n",
    "cyc_cleaned_dataset[cyc_cleaned_dataset['trip_duration_min']<1.00]['ride_id'].count()"
   ]
  },
  {
   "cell_type": "code",
   "execution_count": 21,
   "metadata": {},
   "outputs": [],
   "source": [
    "cyc_cleaned_dataset.drop(cyc_cleaned_dataset[cyc_cleaned_dataset['trip_duration_min']<1.00].index,inplace=True)"
   ]
  },
  {
   "cell_type": "code",
   "execution_count": 22,
   "metadata": {},
   "outputs": [
    {
     "data": {
      "text/plain": [
       "(7506238, 14)"
      ]
     },
     "execution_count": 22,
     "metadata": {},
     "output_type": "execute_result"
    }
   ],
   "source": [
    "cyc_cleaned_dataset.shape # 7616905 - 110667 = 7506238"
   ]
  },
  {
   "cell_type": "markdown",
   "metadata": {},
   "source": [
    "#### start_date"
   ]
  },
  {
   "cell_type": "code",
   "execution_count": 23,
   "metadata": {},
   "outputs": [],
   "source": [
    "## start_date\n",
    "cyc_cleaned_dataset['start_date']=cyc_cleaned_dataset['started_at'].dt.date"
   ]
  },
  {
   "cell_type": "markdown",
   "metadata": {},
   "source": [
    "#### day_of_week"
   ]
  },
  {
   "cell_type": "code",
   "execution_count": 30,
   "metadata": {},
   "outputs": [],
   "source": [
    "cyc_cleaned_dataset['day_of_week']=cyc_cleaned_dataset['started_at'].dt.dayofweek\n",
    "cyc_cleaned_dataset['day_of_week']=cyc_cleaned_dataset['day_of_week'].map({0:'Mon',1:'Tue',2:'Wed',3:'Thu',4:'Fri',5:'Sat',6:'Sun'})"
   ]
  },
  {
   "cell_type": "code",
   "execution_count": 32,
   "metadata": {},
   "outputs": [
    {
     "data": {
      "text/plain": [
       "array(['Fri', 'Sun', 'Sat', 'Tue', 'Wed', 'Thu', 'Mon'], dtype=object)"
      ]
     },
     "execution_count": 32,
     "metadata": {},
     "output_type": "execute_result"
    }
   ],
   "source": [
    "cyc_cleaned_dataset['day_of_week'].unique()"
   ]
  },
  {
   "cell_type": "markdown",
   "metadata": {},
   "source": [
    "#### time_of_day"
   ]
  },
  {
   "cell_type": "code",
   "execution_count": 33,
   "metadata": {},
   "outputs": [],
   "source": [
    "def tod(hour):\n",
    "\tif hour in range(0,6):\n",
    "\t\treturn \"Night\"\n",
    "\telif hour in range(6,12):\n",
    "\t\treturn \"Morning\"\n",
    "\telif hour in range(12,18):\n",
    "\t\treturn \"Afternoon\"\n",
    "\telif hour in range(18,24):\n",
    "\t\treturn \"Evening\""
   ]
  },
  {
   "cell_type": "code",
   "execution_count": 35,
   "metadata": {},
   "outputs": [],
   "source": [
    "cyc_cleaned_dataset['time_of_day']=cyc_cleaned_dataset['started_at'].dt.hour.map(tod)"
   ]
  },
  {
   "cell_type": "markdown",
   "metadata": {},
   "source": [
    "#### hour_of_day"
   ]
  },
  {
   "cell_type": "code",
   "execution_count": 36,
   "metadata": {},
   "outputs": [],
   "source": [
    "cyc_cleaned_dataset['hour_of_day']=cyc_cleaned_dataset['started_at'].dt.hour"
   ]
  },
  {
   "cell_type": "markdown",
   "metadata": {},
   "source": [
    "## Exporting cleaned and processed datset"
   ]
  },
  {
   "cell_type": "code",
   "execution_count": 42,
   "metadata": {},
   "outputs": [],
   "source": [
    "cyc_processed_dataset=cyc_cleaned_dataset.copy()"
   ]
  },
  {
   "cell_type": "code",
   "execution_count": 45,
   "metadata": {},
   "outputs": [],
   "source": [
    "cyc_processed_dataset.drop(columns=['start_station_id','end_station_id','start_lat','end_lat','start_lng','end_lng'],inplace=True)"
   ]
  },
  {
   "cell_type": "code",
   "execution_count": 47,
   "metadata": {},
   "outputs": [
    {
     "name": "stdout",
     "output_type": "stream",
     "text": [
      "<class 'pandas.core.frame.DataFrame'>\n",
      "Int64Index: 7506238 entries, 142 to 9483214\n",
      "Data columns (total 12 columns):\n",
      " #   Column              Dtype         \n",
      "---  ------              -----         \n",
      " 0   ride_id             object        \n",
      " 1   bike_type           object        \n",
      " 2   started_at          datetime64[ns]\n",
      " 3   ended_at            datetime64[ns]\n",
      " 4   start_station_name  object        \n",
      " 5   end_station_name    object        \n",
      " 6   member_type         object        \n",
      " 7   trip_duration_min   float64       \n",
      " 8   start_date          object        \n",
      " 9   day_of_week         object        \n",
      " 10  time_of_day         object        \n",
      " 11  hour_of_day         int64         \n",
      "dtypes: datetime64[ns](2), float64(1), int64(1), object(8)\n",
      "memory usage: 1002.5+ MB\n"
     ]
    }
   ],
   "source": [
    "cyc_processed_dataset.info()"
   ]
  },
  {
   "cell_type": "code",
   "execution_count": 51,
   "metadata": {},
   "outputs": [
    {
     "data": {
      "text/html": [
       "<div>\n",
       "<style scoped>\n",
       "    .dataframe tbody tr th:only-of-type {\n",
       "        vertical-align: middle;\n",
       "    }\n",
       "\n",
       "    .dataframe tbody tr th {\n",
       "        vertical-align: top;\n",
       "    }\n",
       "\n",
       "    .dataframe thead th {\n",
       "        text-align: right;\n",
       "    }\n",
       "</style>\n",
       "<table border=\"1\" class=\"dataframe\">\n",
       "  <thead>\n",
       "    <tr style=\"text-align: right;\">\n",
       "      <th></th>\n",
       "      <th>ride_id</th>\n",
       "      <th>bike_type</th>\n",
       "      <th>started_at</th>\n",
       "      <th>ended_at</th>\n",
       "      <th>start_station_name</th>\n",
       "      <th>end_station_name</th>\n",
       "      <th>member_type</th>\n",
       "      <th>trip_duration_min</th>\n",
       "      <th>start_date</th>\n",
       "      <th>day_of_week</th>\n",
       "      <th>time_of_day</th>\n",
       "      <th>hour_of_day</th>\n",
       "    </tr>\n",
       "  </thead>\n",
       "  <tbody>\n",
       "    <tr>\n",
       "      <th>0</th>\n",
       "      <td>241C440C74CB31BB</td>\n",
       "      <td>classic_bike</td>\n",
       "      <td>2022-08-05 16:13:36</td>\n",
       "      <td>2022-08-05 16:22:40</td>\n",
       "      <td>DuSable Museum</td>\n",
       "      <td>DuSable Museum</td>\n",
       "      <td>casual</td>\n",
       "      <td>9.07</td>\n",
       "      <td>2022-08-05</td>\n",
       "      <td>Fri</td>\n",
       "      <td>Afternoon</td>\n",
       "      <td>16</td>\n",
       "    </tr>\n",
       "    <tr>\n",
       "      <th>1</th>\n",
       "      <td>C34EE790A58C0434</td>\n",
       "      <td>classic_bike</td>\n",
       "      <td>2022-08-21 14:09:08</td>\n",
       "      <td>2022-08-21 15:10:46</td>\n",
       "      <td>California Ave &amp; Division St</td>\n",
       "      <td>California Ave &amp; Division St</td>\n",
       "      <td>casual</td>\n",
       "      <td>61.63</td>\n",
       "      <td>2022-08-21</td>\n",
       "      <td>Sun</td>\n",
       "      <td>Afternoon</td>\n",
       "      <td>14</td>\n",
       "    </tr>\n",
       "    <tr>\n",
       "      <th>2</th>\n",
       "      <td>49259B4BA064D81B</td>\n",
       "      <td>electric_bike</td>\n",
       "      <td>2022-08-21 16:15:12</td>\n",
       "      <td>2022-08-21 16:29:30</td>\n",
       "      <td>Wood St &amp; Chicago Ave</td>\n",
       "      <td>Wood St &amp; Chicago Ave</td>\n",
       "      <td>casual</td>\n",
       "      <td>14.30</td>\n",
       "      <td>2022-08-21</td>\n",
       "      <td>Sun</td>\n",
       "      <td>Afternoon</td>\n",
       "      <td>16</td>\n",
       "    </tr>\n",
       "    <tr>\n",
       "      <th>3</th>\n",
       "      <td>BEE91D557E47FE83</td>\n",
       "      <td>classic_bike</td>\n",
       "      <td>2022-08-21 02:11:26</td>\n",
       "      <td>2022-08-21 03:44:04</td>\n",
       "      <td>California Ave &amp; Milwaukee Ave</td>\n",
       "      <td>California Ave &amp; Milwaukee Ave</td>\n",
       "      <td>casual</td>\n",
       "      <td>92.63</td>\n",
       "      <td>2022-08-21</td>\n",
       "      <td>Sun</td>\n",
       "      <td>Night</td>\n",
       "      <td>2</td>\n",
       "    </tr>\n",
       "    <tr>\n",
       "      <th>4</th>\n",
       "      <td>5221F9363BD7E5B6</td>\n",
       "      <td>electric_bike</td>\n",
       "      <td>2022-08-20 00:25:36</td>\n",
       "      <td>2022-08-20 00:27:20</td>\n",
       "      <td>California Ave &amp; Milwaukee Ave</td>\n",
       "      <td>California Ave &amp; Milwaukee Ave</td>\n",
       "      <td>casual</td>\n",
       "      <td>1.73</td>\n",
       "      <td>2022-08-20</td>\n",
       "      <td>Sat</td>\n",
       "      <td>Night</td>\n",
       "      <td>0</td>\n",
       "    </tr>\n",
       "  </tbody>\n",
       "</table>\n",
       "</div>"
      ],
      "text/plain": [
       "            ride_id      bike_type          started_at            ended_at  \\\n",
       "0  241C440C74CB31BB   classic_bike 2022-08-05 16:13:36 2022-08-05 16:22:40   \n",
       "1  C34EE790A58C0434   classic_bike 2022-08-21 14:09:08 2022-08-21 15:10:46   \n",
       "2  49259B4BA064D81B  electric_bike 2022-08-21 16:15:12 2022-08-21 16:29:30   \n",
       "3  BEE91D557E47FE83   classic_bike 2022-08-21 02:11:26 2022-08-21 03:44:04   \n",
       "4  5221F9363BD7E5B6  electric_bike 2022-08-20 00:25:36 2022-08-20 00:27:20   \n",
       "\n",
       "               start_station_name                end_station_name member_type  \\\n",
       "0                  DuSable Museum                  DuSable Museum      casual   \n",
       "1    California Ave & Division St    California Ave & Division St      casual   \n",
       "2           Wood St & Chicago Ave           Wood St & Chicago Ave      casual   \n",
       "3  California Ave & Milwaukee Ave  California Ave & Milwaukee Ave      casual   \n",
       "4  California Ave & Milwaukee Ave  California Ave & Milwaukee Ave      casual   \n",
       "\n",
       "   trip_duration_min  start_date day_of_week time_of_day  hour_of_day  \n",
       "0               9.07  2022-08-05         Fri   Afternoon           16  \n",
       "1              61.63  2022-08-21         Sun   Afternoon           14  \n",
       "2              14.30  2022-08-21         Sun   Afternoon           16  \n",
       "3              92.63  2022-08-21         Sun       Night            2  \n",
       "4               1.73  2022-08-20         Sat       Night            0  "
      ]
     },
     "execution_count": 51,
     "metadata": {},
     "output_type": "execute_result"
    }
   ],
   "source": [
    "cyc_processed_dataset.head()"
   ]
  },
  {
   "cell_type": "code",
   "execution_count": 52,
   "metadata": {},
   "outputs": [],
   "source": [
    "cyc_processed_dataset.to_csv('cyclistic_processed_dataset.csv')"
   ]
  }
 ],
 "metadata": {
  "kernelspec": {
   "display_name": "Python 3.9.13 64-bit",
   "language": "python",
   "name": "python3"
  },
  "language_info": {
   "codemirror_mode": {
    "name": "ipython",
    "version": 3
   },
   "file_extension": ".py",
   "mimetype": "text/x-python",
   "name": "python",
   "nbconvert_exporter": "python",
   "pygments_lexer": "ipython3",
   "version": "3.9.13"
  },
  "orig_nbformat": 4,
  "vscode": {
   "interpreter": {
    "hash": "aee8b7b246df8f9039afb4144a1f6fd8d2ca17a180786b69acc140d282b71a49"
   }
  }
 },
 "nbformat": 4,
 "nbformat_minor": 2
}
